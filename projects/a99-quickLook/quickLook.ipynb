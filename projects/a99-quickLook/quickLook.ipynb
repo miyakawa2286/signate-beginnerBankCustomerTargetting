{
 "metadata": {
  "language_info": {
   "codemirror_mode": {
    "name": "ipython",
    "version": 3
   },
   "file_extension": ".py",
   "mimetype": "text/x-python",
   "name": "python",
   "nbconvert_exporter": "python",
   "pygments_lexer": "ipython3",
   "version": "3.7.6-final"
  },
  "orig_nbformat": 2,
  "kernelspec": {
   "name": "python_defaultSpec_1598449446728",
   "display_name": "Python 3.7.6 64-bit"
  }
 },
 "nbformat": 4,
 "nbformat_minor": 2,
 "cells": [
  {
   "cell_type": "code",
   "execution_count": 1,
   "metadata": {},
   "outputs": [],
   "source": [
    "import os\n",
    "import pandas as pd"
   ]
  },
  {
   "cell_type": "code",
   "execution_count": 2,
   "metadata": {},
   "outputs": [
    {
     "output_type": "execute_result",
     "data": {
      "text/plain": "'/workspace/projects/a99-quickLook'"
     },
     "metadata": {},
     "execution_count": 2
    }
   ],
   "source": [
    "os.getcwd()"
   ]
  },
  {
   "cell_type": "code",
   "execution_count": 3,
   "metadata": {},
   "outputs": [],
   "source": [
    "train = pd.read_csv('../../data/train.csv')"
   ]
  },
  {
   "cell_type": "code",
   "execution_count": 4,
   "metadata": {
    "tags": []
   },
   "outputs": [
    {
     "output_type": "stream",
     "name": "stdout",
     "text": "<class 'pandas.core.frame.DataFrame'>\nRangeIndex: 27100 entries, 0 to 27099\nData columns (total 18 columns):\n #   Column     Non-Null Count  Dtype \n---  ------     --------------  ----- \n 0   id         27100 non-null  int64 \n 1   age        27100 non-null  int64 \n 2   job        27100 non-null  object\n 3   marital    27100 non-null  object\n 4   education  27100 non-null  object\n 5   default    27100 non-null  object\n 6   balance    27100 non-null  int64 \n 7   housing    27100 non-null  object\n 8   loan       27100 non-null  object\n 9   contact    27100 non-null  object\n 10  day        27100 non-null  int64 \n 11  month      27100 non-null  object\n 12  duration   27100 non-null  int64 \n 13  campaign   27100 non-null  int64 \n 14  pdays      27100 non-null  int64 \n 15  previous   27100 non-null  int64 \n 16  poutcome   27100 non-null  object\n 17  y          27100 non-null  int64 \ndtypes: int64(9), object(9)\nmemory usage: 3.7+ MB\n"
    }
   ],
   "source": [
    "train.info()"
   ]
  },
  {
   "cell_type": "code",
   "execution_count": 5,
   "metadata": {},
   "outputs": [
    {
     "output_type": "execute_result",
     "data": {
      "text/plain": "(27100, 18)"
     },
     "metadata": {},
     "execution_count": 5
    }
   ],
   "source": [
    "train.shape"
   ]
  },
  {
   "cell_type": "code",
   "execution_count": 6,
   "metadata": {},
   "outputs": [],
   "source": [
    "test = pd.read_csv('../../data/test.csv')"
   ]
  },
  {
   "cell_type": "code",
   "execution_count": 7,
   "metadata": {},
   "outputs": [
    {
     "output_type": "execute_result",
     "data": {
      "text/plain": "(18050, 17)"
     },
     "metadata": {},
     "execution_count": 7
    }
   ],
   "source": [
    "test.shape"
   ]
  },
  {
   "cell_type": "code",
   "execution_count": 8,
   "metadata": {
    "tags": []
   },
   "outputs": [
    {
     "output_type": "stream",
     "name": "stdout",
     "text": "<class 'pandas.core.frame.DataFrame'>\nRangeIndex: 18050 entries, 0 to 18049\nData columns (total 17 columns):\n #   Column     Non-Null Count  Dtype \n---  ------     --------------  ----- \n 0   id         18050 non-null  int64 \n 1   age        18050 non-null  int64 \n 2   job        18050 non-null  object\n 3   marital    18050 non-null  object\n 4   education  18050 non-null  object\n 5   default    18050 non-null  object\n 6   balance    18050 non-null  int64 \n 7   housing    18050 non-null  object\n 8   loan       18050 non-null  object\n 9   contact    18050 non-null  object\n 10  day        18050 non-null  int64 \n 11  month      18050 non-null  object\n 12  duration   18050 non-null  int64 \n 13  campaign   18050 non-null  int64 \n 14  pdays      18050 non-null  int64 \n 15  previous   18050 non-null  int64 \n 16  poutcome   18050 non-null  object\ndtypes: int64(8), object(9)\nmemory usage: 2.3+ MB\n"
    }
   ],
   "source": [
    "test.info()"
   ]
  },
  {
   "cell_type": "code",
   "execution_count": 9,
   "metadata": {},
   "outputs": [
    {
     "output_type": "execute_result",
     "data": {
      "text/plain": "id            int64\nage           int64\njob          object\nmarital      object\neducation    object\ndefault      object\nbalance       int64\nhousing      object\nloan         object\ncontact      object\nday           int64\nmonth        object\nduration      int64\ncampaign      int64\npdays         int64\nprevious      int64\npoutcome     object\ny             int64\ndtype: object"
     },
     "metadata": {},
     "execution_count": 9
    }
   ],
   "source": [
    "train.dtypes"
   ]
  },
  {
   "cell_type": "code",
   "execution_count": 10,
   "metadata": {},
   "outputs": [],
   "source": [
    "submission = pd.read_csv('../../data/submit_sample.csv',\n",
    "                         header=None,\n",
    "                         )"
   ]
  },
  {
   "cell_type": "code",
   "execution_count": 11,
   "metadata": {},
   "outputs": [
    {
     "output_type": "execute_result",
     "data": {
      "text/plain": "           0  1\n0          0  0\n1          1  0\n2          2  0\n3          3  0\n4          4  0\n...      ... ..\n18045  18045  0\n18046  18046  0\n18047  18047  0\n18048  18048  0\n18049  18049  0\n\n[18050 rows x 2 columns]",
      "text/html": "<div>\n<style scoped>\n    .dataframe tbody tr th:only-of-type {\n        vertical-align: middle;\n    }\n\n    .dataframe tbody tr th {\n        vertical-align: top;\n    }\n\n    .dataframe thead th {\n        text-align: right;\n    }\n</style>\n<table border=\"1\" class=\"dataframe\">\n  <thead>\n    <tr style=\"text-align: right;\">\n      <th></th>\n      <th>0</th>\n      <th>1</th>\n    </tr>\n  </thead>\n  <tbody>\n    <tr>\n      <th>0</th>\n      <td>0</td>\n      <td>0</td>\n    </tr>\n    <tr>\n      <th>1</th>\n      <td>1</td>\n      <td>0</td>\n    </tr>\n    <tr>\n      <th>2</th>\n      <td>2</td>\n      <td>0</td>\n    </tr>\n    <tr>\n      <th>3</th>\n      <td>3</td>\n      <td>0</td>\n    </tr>\n    <tr>\n      <th>4</th>\n      <td>4</td>\n      <td>0</td>\n    </tr>\n    <tr>\n      <th>...</th>\n      <td>...</td>\n      <td>...</td>\n    </tr>\n    <tr>\n      <th>18045</th>\n      <td>18045</td>\n      <td>0</td>\n    </tr>\n    <tr>\n      <th>18046</th>\n      <td>18046</td>\n      <td>0</td>\n    </tr>\n    <tr>\n      <th>18047</th>\n      <td>18047</td>\n      <td>0</td>\n    </tr>\n    <tr>\n      <th>18048</th>\n      <td>18048</td>\n      <td>0</td>\n    </tr>\n    <tr>\n      <th>18049</th>\n      <td>18049</td>\n      <td>0</td>\n    </tr>\n  </tbody>\n</table>\n<p>18050 rows × 2 columns</p>\n</div>"
     },
     "metadata": {},
     "execution_count": 11
    }
   ],
   "source": [
    "submission"
   ]
  },
  {
   "cell_type": "code",
   "execution_count": null,
   "metadata": {},
   "outputs": [],
   "source": []
  }
 ]
}