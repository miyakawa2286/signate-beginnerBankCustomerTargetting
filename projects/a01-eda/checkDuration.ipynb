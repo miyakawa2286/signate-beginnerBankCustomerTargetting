{
 "metadata": {
  "language_info": {
   "codemirror_mode": {
    "name": "ipython",
    "version": 3
   },
   "file_extension": ".py",
   "mimetype": "text/x-python",
   "name": "python",
   "nbconvert_exporter": "python",
   "pygments_lexer": "ipython3",
   "version": "3.7.6-final"
  },
  "orig_nbformat": 2,
  "kernelspec": {
   "name": "python_defaultSpec_1598689886555",
   "display_name": "Python 3.7.6 64-bit"
  }
 },
 "nbformat": 4,
 "nbformat_minor": 2,
 "cells": [
  {
   "cell_type": "code",
   "execution_count": 1,
   "metadata": {
    "tags": []
   },
   "outputs": [
    {
     "output_type": "stream",
     "name": "stdout",
     "text": "/workspace/projects/a01-eda\n"
    }
   ],
   "source": [
    "import os\n",
    "print(os.getcwd())"
   ]
  },
  {
   "cell_type": "code",
   "execution_count": 2,
   "metadata": {},
   "outputs": [],
   "source": [
    "import pandas as pd \n",
    "dpath_to_data = '../../data/'\n",
    "\n",
    "train = pd.read_csv(os.path.join(dpath_to_data,'train.csv'))\n",
    "test = pd.read_csv(os.path.join(dpath_to_data,'test.csv'))"
   ]
  },
  {
   "cell_type": "code",
   "execution_count": 3,
   "metadata": {},
   "outputs": [
    {
     "output_type": "execute_result",
     "data": {
      "text/plain": "0        101\n1        158\n2        351\n3        658\n4        177\n        ... \n27095    345\n27096    121\n27097    177\n27098    121\n27099    345\nName: duration, Length: 27100, dtype: int64"
     },
     "metadata": {},
     "execution_count": 3
    }
   ],
   "source": [
    "train['duration']"
   ]
  },
  {
   "cell_type": "code",
   "execution_count": 4,
   "metadata": {},
   "outputs": [
    {
     "output_type": "execute_result",
     "data": {
      "text/plain": "568      0\n2426     0\n2586     0\n9080     0\n9303     0\n11330    0\n13702    1\n15329    0\n17444    0\n18603    0\n20075    0\n23167    0\n25604    1\n26804    0\nName: y, dtype: int64"
     },
     "metadata": {},
     "execution_count": 4
    }
   ],
   "source": [
    "train.loc[train['duration']==0,'y']"
   ]
  },
  {
   "cell_type": "code",
   "execution_count": 5,
   "metadata": {},
   "outputs": [
    {
     "output_type": "execute_result",
     "data": {
      "text/plain": "          id  age           job   marital  education default  balance housing  \\\n166      166   34   blue-collar  divorced  secondary      no    32511      no   \n1738    1738   36      services  divorced  secondary      no    50627      no   \n3789    3789   30  entrepreneur   married   tertiary      no    -4166     yes   \n7929    7929   35    technician  divorced    primary      no    75985      no   \n9151    9151   31      services    single  secondary      no    44135      no   \n10112  10112   60       retired  divorced  secondary      no    78395      no   \n10361  10361   35    technician  divorced   tertiary      no    94698      no   \n14603  14603   31    technician  divorced  secondary      no     -233      no   \n18035  18035   37    management  divorced    primary      no    32561      no   \n\n      loan  contact  day month  duration  campaign  pdays  previous poutcome  \n166     no  unknown    2   jun         0         2    588         0  unknown  \n1738    no  unknown    2   jun         0         2    241         0  unknown  \n3789   yes  unknown    2   jun         0         1    236         0  unknown  \n7929    no  unknown    2   jun         0         1     52         0  unknown  \n9151   yes  unknown    2   jun         0         2    264         0  unknown  \n10112   no  unknown   11   jun         0         1     71         0  unknown  \n10361   no  unknown    2   jun         0         1     39         0  unknown  \n14603   no  unknown   20   jun         0         1     27         0  unknown  \n18035   no  unknown    2   jun         0         2    859         0  unknown  ",
      "text/html": "<div>\n<style scoped>\n    .dataframe tbody tr th:only-of-type {\n        vertical-align: middle;\n    }\n\n    .dataframe tbody tr th {\n        vertical-align: top;\n    }\n\n    .dataframe thead th {\n        text-align: right;\n    }\n</style>\n<table border=\"1\" class=\"dataframe\">\n  <thead>\n    <tr style=\"text-align: right;\">\n      <th></th>\n      <th>id</th>\n      <th>age</th>\n      <th>job</th>\n      <th>marital</th>\n      <th>education</th>\n      <th>default</th>\n      <th>balance</th>\n      <th>housing</th>\n      <th>loan</th>\n      <th>contact</th>\n      <th>day</th>\n      <th>month</th>\n      <th>duration</th>\n      <th>campaign</th>\n      <th>pdays</th>\n      <th>previous</th>\n      <th>poutcome</th>\n    </tr>\n  </thead>\n  <tbody>\n    <tr>\n      <th>166</th>\n      <td>166</td>\n      <td>34</td>\n      <td>blue-collar</td>\n      <td>divorced</td>\n      <td>secondary</td>\n      <td>no</td>\n      <td>32511</td>\n      <td>no</td>\n      <td>no</td>\n      <td>unknown</td>\n      <td>2</td>\n      <td>jun</td>\n      <td>0</td>\n      <td>2</td>\n      <td>588</td>\n      <td>0</td>\n      <td>unknown</td>\n    </tr>\n    <tr>\n      <th>1738</th>\n      <td>1738</td>\n      <td>36</td>\n      <td>services</td>\n      <td>divorced</td>\n      <td>secondary</td>\n      <td>no</td>\n      <td>50627</td>\n      <td>no</td>\n      <td>no</td>\n      <td>unknown</td>\n      <td>2</td>\n      <td>jun</td>\n      <td>0</td>\n      <td>2</td>\n      <td>241</td>\n      <td>0</td>\n      <td>unknown</td>\n    </tr>\n    <tr>\n      <th>3789</th>\n      <td>3789</td>\n      <td>30</td>\n      <td>entrepreneur</td>\n      <td>married</td>\n      <td>tertiary</td>\n      <td>no</td>\n      <td>-4166</td>\n      <td>yes</td>\n      <td>yes</td>\n      <td>unknown</td>\n      <td>2</td>\n      <td>jun</td>\n      <td>0</td>\n      <td>1</td>\n      <td>236</td>\n      <td>0</td>\n      <td>unknown</td>\n    </tr>\n    <tr>\n      <th>7929</th>\n      <td>7929</td>\n      <td>35</td>\n      <td>technician</td>\n      <td>divorced</td>\n      <td>primary</td>\n      <td>no</td>\n      <td>75985</td>\n      <td>no</td>\n      <td>no</td>\n      <td>unknown</td>\n      <td>2</td>\n      <td>jun</td>\n      <td>0</td>\n      <td>1</td>\n      <td>52</td>\n      <td>0</td>\n      <td>unknown</td>\n    </tr>\n    <tr>\n      <th>9151</th>\n      <td>9151</td>\n      <td>31</td>\n      <td>services</td>\n      <td>single</td>\n      <td>secondary</td>\n      <td>no</td>\n      <td>44135</td>\n      <td>no</td>\n      <td>yes</td>\n      <td>unknown</td>\n      <td>2</td>\n      <td>jun</td>\n      <td>0</td>\n      <td>2</td>\n      <td>264</td>\n      <td>0</td>\n      <td>unknown</td>\n    </tr>\n    <tr>\n      <th>10112</th>\n      <td>10112</td>\n      <td>60</td>\n      <td>retired</td>\n      <td>divorced</td>\n      <td>secondary</td>\n      <td>no</td>\n      <td>78395</td>\n      <td>no</td>\n      <td>no</td>\n      <td>unknown</td>\n      <td>11</td>\n      <td>jun</td>\n      <td>0</td>\n      <td>1</td>\n      <td>71</td>\n      <td>0</td>\n      <td>unknown</td>\n    </tr>\n    <tr>\n      <th>10361</th>\n      <td>10361</td>\n      <td>35</td>\n      <td>technician</td>\n      <td>divorced</td>\n      <td>tertiary</td>\n      <td>no</td>\n      <td>94698</td>\n      <td>no</td>\n      <td>no</td>\n      <td>unknown</td>\n      <td>2</td>\n      <td>jun</td>\n      <td>0</td>\n      <td>1</td>\n      <td>39</td>\n      <td>0</td>\n      <td>unknown</td>\n    </tr>\n    <tr>\n      <th>14603</th>\n      <td>14603</td>\n      <td>31</td>\n      <td>technician</td>\n      <td>divorced</td>\n      <td>secondary</td>\n      <td>no</td>\n      <td>-233</td>\n      <td>no</td>\n      <td>no</td>\n      <td>unknown</td>\n      <td>20</td>\n      <td>jun</td>\n      <td>0</td>\n      <td>1</td>\n      <td>27</td>\n      <td>0</td>\n      <td>unknown</td>\n    </tr>\n    <tr>\n      <th>18035</th>\n      <td>18035</td>\n      <td>37</td>\n      <td>management</td>\n      <td>divorced</td>\n      <td>primary</td>\n      <td>no</td>\n      <td>32561</td>\n      <td>no</td>\n      <td>no</td>\n      <td>unknown</td>\n      <td>2</td>\n      <td>jun</td>\n      <td>0</td>\n      <td>2</td>\n      <td>859</td>\n      <td>0</td>\n      <td>unknown</td>\n    </tr>\n  </tbody>\n</table>\n</div>"
     },
     "metadata": {},
     "execution_count": 5
    }
   ],
   "source": [
    "test.loc[test['duration']==0]"
   ]
  },
  {
   "cell_type": "code",
   "execution_count": null,
   "metadata": {},
   "outputs": [],
   "source": []
  }
 ]
}